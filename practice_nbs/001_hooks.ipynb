{
 "cells": [
  {
   "cell_type": "code",
   "execution_count": 1,
   "id": "7d59dde7-1af4-4135-a5b7-b1dacf35c1b8",
   "metadata": {},
   "outputs": [],
   "source": [
    "# cd /home/vule/projects/course22p2"
   ]
  },
  {
   "cell_type": "markdown",
   "id": "451131b1-8a6a-41f3-b23f-00921a3a9d4d",
   "metadata": {},
   "source": [
    "## Load data"
   ]
  },
  {
   "cell_type": "code",
   "execution_count": 2,
   "id": "a4e98732-6321-451f-b1ba-6a384932c204",
   "metadata": {},
   "outputs": [],
   "source": [
    "import logging\n",
    "logging.disable(logging.WARNING)"
   ]
  },
  {
   "cell_type": "code",
   "execution_count": null,
   "id": "c7d7fbbc-a9d5-4a95-b64a-99b5c0d4f4c7",
   "metadata": {},
   "outputs": [],
   "source": []
  },
  {
   "cell_type": "code",
   "execution_count": 3,
   "id": "18cda3e1-8b3d-46ee-856f-a052840aabc5",
   "metadata": {},
   "outputs": [
    {
     "name": "stderr",
     "output_type": "stream",
     "text": [
      "/home/vule/miniconda3/envs/miniai/lib/python3.11/site-packages/tqdm/auto.py:21: TqdmWarning: IProgress not found. Please update jupyter and ipywidgets. See https://ipywidgets.readthedocs.io/en/stable/user_install.html\n",
      "  from .autonotebook import tqdm as notebook_tqdm\n"
     ]
    },
    {
     "data": {
      "text/plain": [
       "(torch.Size([1024, 1, 28, 28]), tensor([5, 3, 3, 7, 3, 8, 7, 4, 2, 4]))"
      ]
     },
     "execution_count": 3,
     "metadata": {},
     "output_type": "execute_result"
    }
   ],
   "source": [
    "from datasets import load_dataset,load_dataset_builder\n",
    "import torch\n",
    "import torchvision.transforms.functional as TF\n",
    "from miniai.datasets import *\n",
    "\n",
    "x,y = 'image','label'\n",
    "name = \"fashion_mnist\"\n",
    "dsd = load_dataset(name)\n",
    "\n",
    "@inplace\n",
    "def transformi(b): b[x] = [torch.flatten(TF.to_tensor(o)).view(-1, 28, 28) for o in b[x]]\n",
    "\n",
    "bs = 1024\n",
    "tds = dsd.with_transform(transformi)\n",
    "\n",
    "dls = DataLoaders.from_dd(tds, bs, num_workers=4)\n",
    "dt = dls.train\n",
    "xb,yb = next(iter(dt))\n",
    "xb.shape,yb[:10]"
   ]
  },
  {
   "cell_type": "markdown",
   "id": "7d61ccc3-7661-487b-9f9c-d61dd18d0a16",
   "metadata": {},
   "source": [
    "## Create sequence"
   ]
  },
  {
   "cell_type": "code",
   "execution_count": 4,
   "id": "8f645220-f3a0-4378-a496-b92573ec6fb2",
   "metadata": {},
   "outputs": [],
   "source": [
    "from miniai.conv import conv\n",
    "from torch import nn\n",
    "\n",
    "layers = [conv(1 ,4),            #14x14\n",
    "    conv(4 ,8),            #7x7\n",
    "    conv(8 ,16),           #4x4\n",
    "    conv(16,16),           #2x2\n",
    "    conv(16,10, act=False), #1x1\n",
    "    nn.Flatten()]\n"
   ]
  },
  {
   "cell_type": "markdown",
   "id": "92d58b2e-81b2-44a6-99c7-a9d24d04af0c",
   "metadata": {},
   "source": [
    "## Create model"
   ]
  },
  {
   "cell_type": "code",
   "execution_count": 5,
   "id": "aefbbb94-0813-43de-b7ff-d4d27ffbd9ba",
   "metadata": {},
   "outputs": [],
   "source": [
    "import torch\n",
    "\n",
    "class TinyModel(torch.nn.Module):\n",
    "\n",
    "    def __init__(self, layers):\n",
    "        super(TinyModel, self).__init__()\n",
    "        self.layers = nn.Sequential(*layers)\n",
    "        self.means = [[] for _ in self.layers]\n",
    "        self.stds = [[] for _ in self.layers]\n",
    "    def forward(self, x):\n",
    "        for i, layer in enumerate(self.layers):\n",
    "            x = layer(x)\n",
    "            self.means[i].append(x.mean().item())\n",
    "            self.stds[i].append(x.std().item())\n",
    "        return x\n",
    "\n",
    "model = TinyModel(layers)"
   ]
  },
  {
   "cell_type": "code",
   "execution_count": 6,
   "id": "fee6fae7-b28d-4368-ad77-7b782fc13ccf",
   "metadata": {},
   "outputs": [],
   "source": [
    "# model(xb)\n",
    "# model.means"
   ]
  },
  {
   "cell_type": "code",
   "execution_count": 7,
   "id": "384d5591-eb7d-4a2c-af08-5ab65a7cfcf5",
   "metadata": {},
   "outputs": [
    {
     "data": {
      "text/html": [
       "\n",
       "<style>\n",
       "    /* Turns off some styling */\n",
       "    progress {\n",
       "        /* gets rid of default border in Firefox and Opera. */\n",
       "        border: none;\n",
       "        /* Needs to be in here for Safari polyfill so background images work as expected. */\n",
       "        background-size: auto;\n",
       "    }\n",
       "    progress:not([value]), progress:not([value])::-webkit-progress-bar {\n",
       "        background: repeating-linear-gradient(45deg, #7e7e7e, #7e7e7e 10px, #5c5c5c 10px, #5c5c5c 20px);\n",
       "    }\n",
       "    .progress-bar-interrupted, .progress-bar-interrupted::-webkit-progress-bar {\n",
       "        background: #F44336;\n",
       "    }\n",
       "</style>\n"
      ],
      "text/plain": [
       "<IPython.core.display.HTML object>"
      ]
     },
     "metadata": {},
     "output_type": "display_data"
    },
    {
     "data": {
      "text/html": [
       "<table border=\"1\" class=\"dataframe\">\n",
       "  <thead>\n",
       "    <tr style=\"text-align: left;\">\n",
       "      <th>accuracy</th>\n",
       "      <th>loss</th>\n",
       "      <th>epoch</th>\n",
       "      <th>train</th>\n",
       "    </tr>\n",
       "  </thead>\n",
       "  <tbody>\n",
       "    <tr>\n",
       "      <td>0.106</td>\n",
       "      <td>2.346</td>\n",
       "      <td>0</td>\n",
       "      <td>train</td>\n",
       "    </tr>\n",
       "    <tr>\n",
       "      <td>0.100</td>\n",
       "      <td>2.305</td>\n",
       "      <td>0</td>\n",
       "      <td>eval</td>\n",
       "    </tr>\n",
       "  </tbody>\n",
       "</table>"
      ],
      "text/plain": [
       "<IPython.core.display.HTML object>"
      ]
     },
     "metadata": {},
     "output_type": "display_data"
    },
    {
     "data": {
      "image/png": "[encoded data removed]",
      "text/plain": [
       "<Figure size 600x400 with 1 Axes>"
      ]
     },
     "metadata": {},
     "output_type": "display_data"
    }
   ],
   "source": [
    "from miniai.learner import Learner, TrainCB, DeviceCB, MetricsCB, ProgressCB\n",
    "import torch.nn.functional as F\n",
    "from torcheval.metrics import MulticlassAccuracy,Mean\n",
    "\n",
    "metrics = MetricsCB(accuracy=MulticlassAccuracy())\n",
    "cbs = [TrainCB(), DeviceCB(), metrics, ProgressCB(plot=True)]\n",
    "learn = Learner(model, dls, F.cross_entropy, lr=2, cbs=cbs)\n",
    "learn.fit(1)"
   ]
  },
  {
   "cell_type": "markdown",
   "id": "81ac2f75-226e-4fd8-be31-57fea906171b",
   "metadata": {},
   "source": [
    "## plot mean std"
   ]
  },
  {
   "cell_type": "code",
   "execution_count": 20,
   "id": "83c21654-4b4d-4207-b51f-ec8fa01ebc60",
   "metadata": {},
   "outputs": [
    {
     "data": {
      "image/png": "[encoded data removed]",
      "text/plain": [
       "<Figure size 640x480 with 1 Axes>"
      ]
     },
     "metadata": {},
     "output_type": "display_data"
    }
   ],
   "source": [
    "import matplotlib.pyplot as plt\n",
    "\n",
    "x = [1, 2, 3, 4, 7]\n",
    "# y = [2, 4, 1, 5, 2]\n",
    "\n",
    "plt.plot(model.means[1])\n",
    "plt.show()"
   ]
  },
  {
   "cell_type": "code",
   "execution_count": 9,
   "id": "99b09a89-9355-45e6-8c3b-3639ec629345",
   "metadata": {},
   "outputs": [],
   "source": [
    "# plot histogram"
   ]
  },
  {
   "cell_type": "code",
   "execution_count": 10,
   "id": "54efb74e-b160-4896-b717-a5ee2af1cbdf",
   "metadata": {},
   "outputs": [],
   "source": [
    "# hook"
   ]
  },
  {
   "cell_type": "code",
   "execution_count": 11,
   "id": "693cf95f-0e25-4236-9093-794dc4d3d803",
   "metadata": {},
   "outputs": [],
   "source": [
    "# context manager"
   ]
  },
  {
   "cell_type": "code",
   "execution_count": null,
   "id": "e744d20b-7cef-412c-a7c2-7b831e80bfce",
   "metadata": {},
   "outputs": [],
   "source": []
  }
 ],
 "metadata": {
  "kernelspec": {
   "display_name": "Python 3 (ipykernel)",
   "language": "python",
   "name": "python3"
  },
  "language_info": {
   "codemirror_mode": {
    "name": "ipython",
    "version": 3
   },
   "file_extension": ".py",
   "mimetype": "text/x-python",
   "name": "python",
   "nbconvert_exporter": "python",
   "pygments_lexer": "ipython3",
   "version": "3.11.5"
  }
 },
 "nbformat": 4,
 "nbformat_minor": 5
}
